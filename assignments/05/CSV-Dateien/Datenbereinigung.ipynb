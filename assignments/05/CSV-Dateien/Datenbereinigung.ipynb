{
 "cells": [
  {
   "cell_type": "code",
   "execution_count": 3,
   "id": "097fa713-aec1-47f8-837a-e99e5c7e3a40",
   "metadata": {},
   "outputs": [
    {
     "name": "stdout",
     "output_type": "stream",
     "text": [
      "Bereinigte Datei gespeichert unter: C:\\Users\\alexq\\OneDrive\\Dokumente\\Uni\\Semester 3\\Data Modeling\\Aufgabe 3\\individual-assignments-dsvghcln\\assignments\\05\\CSV-Dateien\\clean_lotr_scripts.csv\n"
     ]
    }
   ],
   "source": [
    "import pandas as pd\n",
    "import re\n",
    "\n",
    "# Datei laden\n",
    "file_path = r\"C:\\Users\\alexq\\OneDrive\\Dokumente\\Uni\\Semester 3\\Data Modeling\\Aufgabe 3\\individual-assignments-dsvghcln\\assignments\\05\\CSV-Dateien\\lotr_scripts.csv\"\n",
    "data = pd.read_csv(file_path)\n",
    "\n",
    "# Daten bereinigen\n",
    "# 1. Leerzeichen entfernen\n",
    "data['char'] = data['char'].str.strip()\n",
    "data['dialog'] = data['dialog'].str.strip()\n",
    "data['movie'] = data['movie'].str.strip()\n",
    "\n",
    "# 2. Einheitliche Groß-/Kleinschreibung\n",
    "data['char'] = data['char'].str.title()  # Titel-Schreibweise (z.B. \"Gandalf\")\n",
    "\n",
    "# 3. Entfernen von Sonderzeichen im Dialog\n",
    "data['dialog'] = data['dialog'].apply(lambda x: re.sub(r'[^\\w\\s]', '', x) if pd.notnull(x) else x)\n",
    "\n",
    "# 4. Validierung der Filmtitel\n",
    "valid_films = [\"The Fellowship of the Ring\", \"The Two Towers\", \"The Return of the King\"]\n",
    "data['movie'] = data['movie'].apply(lambda x: x if x in valid_films else None)\n",
    "\n",
    "# Bereinigte Datei speichern\n",
    "clean_file_path = file_path.replace(\"lotr_scripts.csv\", \"clean_lotr_scripts.csv\")\n",
    "data.to_csv(clean_file_path, index=False)\n",
    "print(f\"Bereinigte Datei gespeichert unter: {clean_file_path}\")\n"
   ]
  },
  {
   "cell_type": "code",
   "execution_count": 2,
   "id": "c7af8bb8-876b-4b47-aab4-5943c4897bf4",
   "metadata": {},
   "outputs": [
    {
     "name": "stdout",
     "output_type": "stream",
     "text": [
      "Index(['Unnamed: 0', 'char', 'dialog', 'movie'], dtype='object')\n"
     ]
    }
   ],
   "source": [
    "print(data.columns)\n"
   ]
  },
  {
   "cell_type": "code",
   "execution_count": null,
   "id": "701f8890-4e43-41b5-847b-94e39ae5fcc2",
   "metadata": {},
   "outputs": [],
   "source": []
  }
 ],
 "metadata": {
  "kernelspec": {
   "display_name": "Python 3 (ipykernel)",
   "language": "python",
   "name": "python3"
  },
  "language_info": {
   "codemirror_mode": {
    "name": "ipython",
    "version": 3
   },
   "file_extension": ".py",
   "mimetype": "text/x-python",
   "name": "python",
   "nbconvert_exporter": "python",
   "pygments_lexer": "ipython3",
   "version": "3.13.1"
  }
 },
 "nbformat": 4,
 "nbformat_minor": 5
}

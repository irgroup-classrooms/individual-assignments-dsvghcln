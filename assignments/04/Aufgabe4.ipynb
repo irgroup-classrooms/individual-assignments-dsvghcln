{
 "cells": [
  {
   "cell_type": "code",
   "execution_count": 6,
   "metadata": {},
   "outputs": [
    {
     "name": "stdout",
     "output_type": "stream",
     "text": [
      "Orders: ['12345', '899', '99', '2023', '09', '15', '12346', '199', '23', '2023', '09', '16', '12347', '699', '99', '2023', '09', '17', '12348', '299', '99', '2023', '09', '18', '12349', '49', '99', '2023', '09', '19', '12350', '29', '99', '2023', '09', '20', '12351', '499', '49', '2023', '09', '21', '12352', '999', '99', '2023', '09', '22', '12353', '549', '29', '2023', '09', '23', '12354', '249', '57', '2023', '09', '24']\n",
      "Products: ['Order ', '12345', ' Product', ' Laptop', ' Price', ' ', '899', '99', ' Date', ' 2023', '09', '15', 'Order ', '12346', ' Product', ' Headphones', ' Price', ' ', '199', '23', ' Date', ' 2023', '09', '16', 'Order ', '12347', ' Product', ' Smartphone', ' Price', ' ', '699', '99', ' Date', ' 2023', '09', '17', 'Order ', '12348', ' Product', ' Monitor', ' Price', ' ', '299', '99', ' Date', ' 2023', '09', '18', 'Order ', '12349', ' Product', ' Keyboard', ' Price', ' ', '49', '99', ' Date', ' 2023', '09', '19', 'Order ', '12350', ' Product', ' Mouse', ' Price', ' ', '29', '99', ' Date', ' 2023', '09', '20', 'Order ', '12351', ' Product', ' Tablet', ' Price', ' ', '499', '49', ' Date', ' 2023', '09', '21', 'Order ', '12352', ' Product', ' Laptop', ' Price', ' ', '999', '99', ' Date', ' 2023', '09', '22', 'Order ', '12353', ' Product', ' Camera', ' Price', ' ', '549', '29', ' Date', ' 2023', '09', '23', 'Order ', '12354', ' Product', ' Headphones', ' Price', ' ', '249', '57', ' Date', ' 2023', '09', '24']\n",
      "Prices: ['899.99', '199.23', '699.99', '299.99', '49.99', '29.99', '499.49', '999.99', '549.29', '249.57']\n",
      "Dates: ['2023-09-15', '2023-09-16', '2023-09-17', '2023-09-18', '2023-09-19', '2023-09-20', '2023-09-21', '2023-09-22', '2023-09-23', '2023-09-24']\n",
      "Expensive orders (> $500): ['899.99', '699.99', '999.99', '549.29']\n",
      "Formatted dates (DD/MM/YYYY): ['15/09/2023', '16/09/2023', '17/09/2023', '18/09/2023', '19/09/2023', '20/09/2023', '21/09/2023', '22/09/2023', '23/09/2023', '24/09/2023']\n",
      "Products with more than 6 characters: [' Product', ' Laptop', ' Product', ' Headphones', ' Product', ' Smartphone', ' Product', ' Monitor', ' Product', ' Keyboard', ' Product', ' Product', ' Tablet', ' Product', ' Laptop', ' Product', ' Camera', ' Product', ' Headphones']\n",
      "Product counts: Counter({'Order ': 10, ' Product': 10, ' Price': 10, ' ': 10, ' Date': 10, ' 2023': 10, '09': 10, '99': 6, ' Laptop': 2, ' Headphones': 2, '23': 2, '49': 2, '29': 2, '12345': 1, '899': 1, '15': 1, '12346': 1, '199': 1, '16': 1, '12347': 1, ' Smartphone': 1, '699': 1, '17': 1, '12348': 1, ' Monitor': 1, '299': 1, '18': 1, '12349': 1, ' Keyboard': 1, '19': 1, '12350': 1, ' Mouse': 1, '20': 1, '12351': 1, ' Tablet': 1, '499': 1, '21': 1, '12352': 1, '999': 1, '22': 1, '12353': 1, ' Camera': 1, '549': 1, '12354': 1, '249': 1, '57': 1, '24': 1})\n",
      "Orders with prices ending in .99: ['899.99', '699.99', '299.99', '49.99', '29.99', '999.99']\n",
      "Cheapest product: ('29.99', ' ')\n"
     ]
    }
   ],
   "source": [
    "import re\n",
    "from collections import Counter\n",
    "\n",
    "def main():\n",
    "    \n",
    "    # Read the CSV file with the product orders\n",
    "    with open('./csv/orders.csv') as f_in:\n",
    "        text = f_in.read()\n",
    "\n",
    "    # Define the regular expression to extract all order numbers\n",
    "    order_regex = r'\\d+'\n",
    "    orders = re.findall(order_regex, text)\n",
    "\n",
    "    # Define the regular expression to extract product names (assuming they are alphabetic or alphanumeric words)\n",
    "    product_regex = r'[A-Za-z0-9 ]+'\n",
    "    products = re.findall(product_regex, text)\n",
    "\n",
    "    # Define the regular expression to extract prices (e.g. 199.99)\n",
    "    price_regex = r'\\d+\\.\\d{2}'\n",
    "    prices = re.findall(price_regex, text)\n",
    "\n",
    "    # Define the regular expression to extract dates (e.g. 2023-01-10)\n",
    "    date_regex = r'\\d{4}-\\d{2}-\\d{2}'\n",
    "    dates = re.findall(date_regex, text)\n",
    "\n",
    "    # Find orders for products priced over $500\n",
    "    expensive_orders = [price for price in prices if float(price) > 500]\n",
    "\n",
    "    # Change the date format to DD/MM/YYYY\n",
    "    formatted_dates = [re.sub(r'(\\d{4})-(\\d{2})-(\\d{2})', r'\\3/\\2/\\1', date) for date in dates]\n",
    "\n",
    "    # Extract product names that have more than 6 characters\n",
    "    long_products = [product for product in products if len(product) > 6]\n",
    "\n",
    "    # Count the occurrences of each product\n",
    "    product_counts = Counter(products)\n",
    "\n",
    "    # Extract the orders with prices ending in .99\n",
    "    prices_ending_in_99 = [price for price in prices if price.endswith('.99')]\n",
    "\n",
    "    # Find the cheapest product\n",
    "    cheapest_product = min(zip(prices, products), key=lambda x: float(x[0]))\n",
    "\n",
    "    # Print the results\n",
    "    print(f'Orders: {orders}')\n",
    "    print(f'Products: {products}')\n",
    "    print(f'Prices: {prices}')\n",
    "    print(f'Dates: {dates}')\n",
    "    print(f'Expensive orders (> $500): {expensive_orders}')\n",
    "    print(f'Formatted dates (DD/MM/YYYY): {formatted_dates}')\n",
    "    print(f'Products with more than 6 characters: {long_products}')\n",
    "    print(f'Product counts: {product_counts}')\n",
    "    print(f'Orders with prices ending in .99: {prices_ending_in_99}')\n",
    "    print(f'Cheapest product: {cheapest_product}')\n",
    "\n",
    "if __name__ == '__main__':\n",
    "    main()\n"
   ]
  },
  {
   "cell_type": "code",
   "execution_count": null,
   "metadata": {},
   "outputs": [],
   "source": []
  }
 ],
 "metadata": {
  "kernelspec": {
   "display_name": "Python 3 (ipykernel)",
   "language": "python",
   "name": "python3"
  },
  "language_info": {
   "codemirror_mode": {
    "name": "ipython",
    "version": 3
   },
   "file_extension": ".py",
   "mimetype": "text/x-python",
   "name": "python",
   "nbconvert_exporter": "python",
   "pygments_lexer": "ipython3",
   "version": "3.13.1"
  }
 },
 "nbformat": 4,
 "nbformat_minor": 4
}
